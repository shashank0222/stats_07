{
 "cells": [
  {
   "cell_type": "markdown",
   "id": "3222451e-1aa0-4675-b1bc-4d9fd256f045",
   "metadata": {},
   "source": [
    "Q1. Calculate the 95% confidence interval for a sample of data with a mean of 50 and a standard deviation \n",
    "of 5 using Python. Interpret the results."
   ]
  },
  {
   "cell_type": "markdown",
   "id": "8d310801-9c14-49b3-b01b-997600fbfa30",
   "metadata": {},
   "source": [
    "Solution:"
   ]
  },
  {
   "cell_type": "code",
   "execution_count": 2,
   "id": "3ad1898a-a32e-42fe-82ef-2e861585a52f",
   "metadata": {},
   "outputs": [],
   "source": [
    "from scipy import stats"
   ]
  },
  {
   "cell_type": "code",
   "execution_count": 6,
   "id": "f26cba6c-a869-409f-ba94-3a6a21d86d1b",
   "metadata": {},
   "outputs": [],
   "source": [
    "sam_mean = 50\n",
    "sam_std = 5\n",
    "sig_level=0.05\n",
    "sam_size=30"
   ]
  },
  {
   "cell_type": "code",
   "execution_count": 4,
   "id": "237d511f-38c4-4a65-ba7e-0a3c136c0ed0",
   "metadata": {},
   "outputs": [],
   "source": [
    "z = stats.norm.ppf(q = 1-0.05/2)"
   ]
  },
  {
   "cell_type": "code",
   "execution_count": 5,
   "id": "ea216051-6150-42d3-bf53-e81abea0508d",
   "metadata": {},
   "outputs": [
    {
     "data": {
      "text/plain": [
       "1.959963984540054"
      ]
     },
     "execution_count": 5,
     "metadata": {},
     "output_type": "execute_result"
    }
   ],
   "source": [
    "z"
   ]
  },
  {
   "cell_type": "code",
   "execution_count": 11,
   "id": "3ed375d9-f531-430d-a7b9-e0c9f31b46ca",
   "metadata": {},
   "outputs": [],
   "source": [
    "lower_bound = sam_mean - z * sam_std/(sam_size**0.5)"
   ]
  },
  {
   "cell_type": "code",
   "execution_count": 12,
   "id": "daecbd5d-9d75-4e65-b21f-8f118bdc9230",
   "metadata": {},
   "outputs": [
    {
     "data": {
      "text/plain": [
       "48.210805856282846"
      ]
     },
     "execution_count": 12,
     "metadata": {},
     "output_type": "execute_result"
    }
   ],
   "source": [
    "lower_bound"
   ]
  },
  {
   "cell_type": "code",
   "execution_count": 13,
   "id": "a218bf40-2ca4-4369-be45-5ed0affbbed5",
   "metadata": {},
   "outputs": [],
   "source": [
    "upper_bound = sam_mean + z * sam_std/(sam_size**0.5)"
   ]
  },
  {
   "cell_type": "code",
   "execution_count": 14,
   "id": "cbbdc5a7-d851-4d14-a04d-d758bc2da7a5",
   "metadata": {},
   "outputs": [
    {
     "data": {
      "text/plain": [
       "51.789194143717154"
      ]
     },
     "execution_count": 14,
     "metadata": {},
     "output_type": "execute_result"
    }
   ],
   "source": [
    "upper_bound"
   ]
  },
  {
   "cell_type": "code",
   "execution_count": 15,
   "id": "cea6a05c-94cb-4b2d-929c-8932aba7f8e6",
   "metadata": {},
   "outputs": [],
   "source": [
    "confidence_interval = [lower_bound , upper_bound]"
   ]
  },
  {
   "cell_type": "code",
   "execution_count": 16,
   "id": "b51ac059-625a-4ec1-a3c5-a68786f84376",
   "metadata": {},
   "outputs": [
    {
     "data": {
      "text/plain": [
       "[48.210805856282846, 51.789194143717154]"
      ]
     },
     "execution_count": 16,
     "metadata": {},
     "output_type": "execute_result"
    }
   ],
   "source": [
    "confidence_interval"
   ]
  },
  {
   "cell_type": "code",
   "execution_count": null,
   "id": "0e25bc42-ea2e-45df-9783-77a4b77f2602",
   "metadata": {},
   "outputs": [],
   "source": []
  },
  {
   "cell_type": "markdown",
   "id": "d3aed46c-a907-4b64-8c8c-da15fdf46d43",
   "metadata": {},
   "source": [
    "Q2. Conduct a chi-square goodness of fit test to determine if the distribution of colors of M&Ms in a bag \n",
    "matches the expected distribution of 20% blue, 20% orange, 20% green, 10% yellow, 10% red, and 20% \n",
    "brown. Use Python to perform the test with a significance level of 0.05."
   ]
  },
  {
   "cell_type": "markdown",
   "id": "afa7d192-b04c-45d8-80b6-5dcef4fa50ab",
   "metadata": {},
   "source": [
    "Solution:"
   ]
  },
  {
   "cell_type": "code",
   "execution_count": 18,
   "id": "3c18d9e5-9431-4c48-a14d-f7f289d74dca",
   "metadata": {},
   "outputs": [
    {
     "data": {
      "text/plain": [
       "226"
      ]
     },
     "execution_count": 18,
     "metadata": {},
     "output_type": "execute_result"
    }
   ],
   "source": [
    "observed = [56, 45, 34, 23, 12, 56]\n",
    "\n",
    "sum(observed)"
   ]
  },
  {
   "cell_type": "code",
   "execution_count": 19,
   "id": "f902e34d-f14f-4254-8b8c-4106625c6749",
   "metadata": {},
   "outputs": [
    {
     "data": {
      "text/plain": [
       "[45.2, 45.2, 45.2, 22.6, 22.6, 45.2]"
      ]
     },
     "execution_count": 19,
     "metadata": {},
     "output_type": "execute_result"
    }
   ],
   "source": [
    "expected = [226*0.2 , 226*0.2 , 226*0.2 , 226*0.1 , 226*0.1 ,226*0.2]\n",
    "\n",
    "expected"
   ]
  },
  {
   "cell_type": "code",
   "execution_count": 23,
   "id": "999bf723-1bdd-4d21-8a77-f900672c07cf",
   "metadata": {},
   "outputs": [],
   "source": [
    "df=5"
   ]
  },
  {
   "cell_type": "code",
   "execution_count": 20,
   "id": "d4356e40-3ce9-4d14-802d-94b073a0c1e0",
   "metadata": {},
   "outputs": [],
   "source": [
    "chi_stats , p_value = stats.chisquare(observed , expected)"
   ]
  },
  {
   "cell_type": "code",
   "execution_count": 21,
   "id": "96906f9d-c60f-4f5e-9599-a6124929f229",
   "metadata": {},
   "outputs": [
    {
     "data": {
      "text/plain": [
       "12.915929203539823"
      ]
     },
     "execution_count": 21,
     "metadata": {},
     "output_type": "execute_result"
    }
   ],
   "source": [
    "chi_stats"
   ]
  },
  {
   "cell_type": "code",
   "execution_count": 22,
   "id": "e36a54f0-7986-4001-93b3-c7b1910b60bc",
   "metadata": {},
   "outputs": [
    {
     "data": {
      "text/plain": [
       "0.02417946959105524"
      ]
     },
     "execution_count": 22,
     "metadata": {},
     "output_type": "execute_result"
    }
   ],
   "source": [
    "p_value"
   ]
  },
  {
   "cell_type": "code",
   "execution_count": 24,
   "id": "5f5a917d-76a4-45c5-a6fd-dacc3bc6b5f4",
   "metadata": {},
   "outputs": [],
   "source": [
    "critical_value = stats.chi2.ppf(1-0.05 , df)"
   ]
  },
  {
   "cell_type": "code",
   "execution_count": 25,
   "id": "c282a6c5-76de-4660-a054-8340f52d6d4e",
   "metadata": {},
   "outputs": [
    {
     "data": {
      "text/plain": [
       "11.070497693516351"
      ]
     },
     "execution_count": 25,
     "metadata": {},
     "output_type": "execute_result"
    }
   ],
   "source": [
    "critical_value"
   ]
  },
  {
   "cell_type": "code",
   "execution_count": 26,
   "id": "44d9d089-3c0c-4ee7-ac23-bc186d5cb3b6",
   "metadata": {},
   "outputs": [
    {
     "name": "stdout",
     "output_type": "stream",
     "text": [
      "null hypothesis rejected\n"
     ]
    }
   ],
   "source": [
    "if chi_stats > critical_value:\n",
    "    print(\"null hypothesis rejected\")\n",
    "    \n",
    "else:\n",
    "    print(\"fail to reject null hypothesis\")"
   ]
  },
  {
   "cell_type": "code",
   "execution_count": null,
   "id": "aae61a9b-0721-421a-ac49-9e5f013014b0",
   "metadata": {},
   "outputs": [],
   "source": []
  },
  {
   "attachments": {
    "94de8c7f-0911-4f6e-b0d0-f22f6dcbd06b.png": {
     "image/png": "[encoded data removed]"
    }
   },
   "cell_type": "markdown",
   "id": "f6b13b69-4e67-4a78-a5c1-1b25f0a4153d",
   "metadata": {},
   "source": [
    "Q3. Use Python to calculate the chi-square statistic and p-value for a contingency table with the following \n",
    "data:\n",
    "\n",
    "![image.png](attachment:94de8c7f-0911-4f6e-b0d0-f22f6dcbd06b.png)"
   ]
  },
  {
   "cell_type": "markdown",
   "id": "266056b2-239e-4c47-84fc-30594db0cafe",
   "metadata": {},
   "source": [
    "Solution : "
   ]
  },
  {
   "cell_type": "code",
   "execution_count": 41,
   "id": "da82c8b5-4dbf-4622-b393-eecfa0bedd30",
   "metadata": {},
   "outputs": [],
   "source": [
    "import numpy as np\n",
    "\n",
    "observed = np.array([ [20,25,15] , [15,25,20] ])\n"
   ]
  },
  {
   "cell_type": "code",
   "execution_count": 42,
   "id": "d1c12b60-338c-41a3-87dc-89889ebab3dc",
   "metadata": {},
   "outputs": [],
   "source": [
    "test_stats , p_value , dof , expected = stats.chi2_contingency(observed)"
   ]
  },
  {
   "cell_type": "code",
   "execution_count": 43,
   "id": "9aadb6f1-0672-404d-8bb0-62abdfb4de26",
   "metadata": {},
   "outputs": [
    {
     "data": {
      "text/plain": [
       "0.48954165955695306"
      ]
     },
     "execution_count": 43,
     "metadata": {},
     "output_type": "execute_result"
    }
   ],
   "source": [
    "p_value"
   ]
  },
  {
   "cell_type": "code",
   "execution_count": 44,
   "id": "5e9cfa9d-36f0-4b9d-b7be-0e0b72104ed2",
   "metadata": {},
   "outputs": [
    {
     "data": {
      "text/plain": [
       "1.4285714285714286"
      ]
     },
     "execution_count": 44,
     "metadata": {},
     "output_type": "execute_result"
    }
   ],
   "source": [
    "test_stats"
   ]
  },
  {
   "cell_type": "code",
   "execution_count": null,
   "id": "63debd8b-015a-4670-b811-3bfa7f5e7797",
   "metadata": {},
   "outputs": [],
   "source": []
  },
  {
   "cell_type": "markdown",
   "id": "bff1ada3-091a-453b-b911-462023feac5b",
   "metadata": {},
   "source": [
    "Q4. A study of the prevalence of smoking in a population of 500 individuals found that 60 individuals \n",
    "smoked. Use Python to calculate the 95% confidence interval for the true proportion of individuals in the \n",
    "population who smoke."
   ]
  },
  {
   "cell_type": "markdown",
   "id": "4f606922-309d-448c-9c7b-f2c9e110b0e9",
   "metadata": {},
   "source": [
    "Solution:"
   ]
  },
  {
   "cell_type": "code",
   "execution_count": 45,
   "id": "bfdc8e10-c289-46f0-88a4-334bb3bcac14",
   "metadata": {},
   "outputs": [],
   "source": [
    "sig_level = 0.05\n",
    "n= 500\n",
    "p = 60/n"
   ]
  },
  {
   "cell_type": "code",
   "execution_count": 46,
   "id": "7132b6ed-794f-44e7-a7dd-aa143e3e57ce",
   "metadata": {},
   "outputs": [
    {
     "data": {
      "text/plain": [
       "0.12"
      ]
     },
     "execution_count": 46,
     "metadata": {},
     "output_type": "execute_result"
    }
   ],
   "source": [
    "p"
   ]
  },
  {
   "cell_type": "code",
   "execution_count": 53,
   "id": "38815ab8-b8db-45d2-88af-416cf21615a1",
   "metadata": {},
   "outputs": [],
   "source": [
    "import math\n",
    "lower_bound = p - 1.96 * math.sqrt(p*(1-p)/n)"
   ]
  },
  {
   "cell_type": "code",
   "execution_count": 54,
   "id": "de69e881-5690-495d-af64-f11aa52b3aba",
   "metadata": {},
   "outputs": [
    {
     "data": {
      "text/plain": [
       "0.09151586546865079"
      ]
     },
     "execution_count": 54,
     "metadata": {},
     "output_type": "execute_result"
    }
   ],
   "source": [
    "lower_bound"
   ]
  },
  {
   "cell_type": "code",
   "execution_count": 55,
   "id": "0914a33f-ddd9-4a8d-b8bd-8184860ead53",
   "metadata": {},
   "outputs": [],
   "source": [
    "upper_bound =  p + 1.96 * math.sqrt(p*(1-p)/n)"
   ]
  },
  {
   "cell_type": "code",
   "execution_count": 56,
   "id": "4c226b35-0362-445f-9f35-bf32891a553f",
   "metadata": {},
   "outputs": [
    {
     "data": {
      "text/plain": [
       "0.1484841345313492"
      ]
     },
     "execution_count": 56,
     "metadata": {},
     "output_type": "execute_result"
    }
   ],
   "source": [
    "upper_bound"
   ]
  },
  {
   "cell_type": "code",
   "execution_count": null,
   "id": "09a8db6f-0cf9-4f51-97e2-f6e82f75dcf0",
   "metadata": {},
   "outputs": [],
   "source": []
  },
  {
   "cell_type": "markdown",
   "id": "c938301d-4c94-43e3-a7c1-6e0e77a74e5f",
   "metadata": {},
   "source": [
    "Q5. Calculate the 90% confidence interval for a sample of data with a mean of 75 and a standard deviation \n",
    "of 12 using Python. Interpret the results."
   ]
  },
  {
   "cell_type": "markdown",
   "id": "bd2ab6f7-738f-4cfe-aa33-d07d1317c90b",
   "metadata": {},
   "source": [
    "Solution:"
   ]
  },
  {
   "cell_type": "code",
   "execution_count": 57,
   "id": "834c7609-ff7d-4636-8a6e-829c5078c5c0",
   "metadata": {},
   "outputs": [],
   "source": [
    "sig_level = 0.1\n",
    "sam_mean = 75\n",
    "sam_std = 12\n"
   ]
  },
  {
   "cell_type": "code",
   "execution_count": 69,
   "id": "5e564606-4988-4780-a22e-67ee6c43c68f",
   "metadata": {},
   "outputs": [],
   "source": [
    "z = stats.norm.ppf(q=1-sig_level/2 )"
   ]
  },
  {
   "cell_type": "code",
   "execution_count": 70,
   "id": "4fb7f174-82a9-4383-bdf6-f440c8bce295",
   "metadata": {},
   "outputs": [
    {
     "data": {
      "text/plain": [
       "1.6448536269514722"
      ]
     },
     "execution_count": 70,
     "metadata": {},
     "output_type": "execute_result"
    }
   ],
   "source": [
    "z"
   ]
  },
  {
   "cell_type": "code",
   "execution_count": 77,
   "id": "541e0564-095a-42c3-b587-f6224de8ff00",
   "metadata": {},
   "outputs": [],
   "source": [
    "lower_bound = sam_mean - z * (sam_std / (1**0.5))"
   ]
  },
  {
   "cell_type": "code",
   "execution_count": 78,
   "id": "65a1917b-457d-4ca0-8991-cb394694cb57",
   "metadata": {},
   "outputs": [
    {
     "data": {
      "text/plain": [
       "55.261756476582335"
      ]
     },
     "execution_count": 78,
     "metadata": {},
     "output_type": "execute_result"
    }
   ],
   "source": [
    "lower_bound"
   ]
  },
  {
   "cell_type": "code",
   "execution_count": 75,
   "id": "7900bd17-59af-4000-a523-5181a15e9a09",
   "metadata": {},
   "outputs": [],
   "source": [
    "upper_bound =  sam_mean + z * (sam_std / (1**0.5))"
   ]
  },
  {
   "cell_type": "code",
   "execution_count": 76,
   "id": "ac6fca51-fc23-425d-9247-c1f55d10a2ef",
   "metadata": {},
   "outputs": [
    {
     "data": {
      "text/plain": [
       "94.73824352341767"
      ]
     },
     "execution_count": 76,
     "metadata": {},
     "output_type": "execute_result"
    }
   ],
   "source": [
    "upper_bound"
   ]
  },
  {
   "cell_type": "code",
   "execution_count": null,
   "id": "9580d728-4d2c-4f1e-8c60-8ceef63829f7",
   "metadata": {},
   "outputs": [],
   "source": []
  },
  {
   "cell_type": "markdown",
   "id": "f8ad334f-a8ba-42b8-a57c-d2198a06fbc1",
   "metadata": {},
   "source": [
    "Q6. Use Python to plot the chi-square distribution with 10 degrees of freedom. Label the axes and shade the \n",
    "area corresponding to a chi-square statistic of 15."
   ]
  },
  {
   "cell_type": "markdown",
   "id": "42489994-3ffa-480a-a7b4-73c10a8fda1c",
   "metadata": {},
   "source": [
    "Solution:"
   ]
  },
  {
   "cell_type": "code",
   "execution_count": 79,
   "id": "f8b45804-c315-4449-8e08-47e7cfdb273f",
   "metadata": {},
   "outputs": [],
   "source": [
    "import numpy as np"
   ]
  },
  {
   "cell_type": "code",
   "execution_count": 80,
   "id": "81ea76b8-51b4-418b-98d8-d207b69df6a1",
   "metadata": {},
   "outputs": [],
   "source": [
    "arr = np.random.chisquare(df = 10 , size = 100)"
   ]
  },
  {
   "cell_type": "code",
   "execution_count": 81,
   "id": "2b00156e-52f7-4309-bfed-b38d9925ca64",
   "metadata": {},
   "outputs": [
    {
     "data": {
      "text/plain": [
       "array([ 7.20487938,  6.9274449 , 12.20316164, 13.78920061,  9.60141085,\n",
       "        0.92953673, 10.23893868,  7.235537  , 11.30274195, 12.95658867,\n",
       "        6.4563197 , 16.17844042,  3.44045379,  4.76500135,  5.83128261,\n",
       "       10.73641627,  7.5600837 , 13.30894775,  9.78020766, 12.32868104,\n",
       "        5.18291076,  4.33649041, 16.01283253, 14.38939476, 11.4615926 ,\n",
       "       12.40138224,  6.79494531, 16.26531102, 10.42005984, 13.19522357,\n",
       "        3.59571495,  9.00568104,  5.22520582, 13.40902427, 12.94055988,\n",
       "        7.44082132,  7.43983659,  6.91668625,  9.32339638,  6.0197242 ,\n",
       "        9.57023829,  8.70505989, 16.75822305,  9.2447724 , 14.5812392 ,\n",
       "       14.10486493, 10.89835406,  5.74407824,  5.90127099, 18.8110092 ,\n",
       "       17.20960631, 10.34190885,  6.10123979, 12.73791599,  3.81891586,\n",
       "       11.68178599,  8.96126523, 10.13983926, 10.40269067, 13.33756276,\n",
       "       15.96739974, 17.6324868 , 16.80270861, 13.40000734,  4.20066571,\n",
       "       15.1928869 , 16.7179794 ,  4.83559003, 11.03170651,  9.35903451,\n",
       "       12.15646388, 13.85237089, 13.40851718, 15.66424995, 20.1999329 ,\n",
       "       10.7316384 , 11.49992041, 11.11443621,  9.42383021, 16.66803306,\n",
       "        4.10018992,  6.54792217,  8.3433283 , 14.29445966, 16.00585915,\n",
       "        9.81538711,  5.03336071,  8.16660822, 11.65626156, 11.08605362,\n",
       "        5.75911628, 10.85657278, 15.03674338, 11.90647613,  9.30230179,\n",
       "       11.09215173,  8.97575805, 14.46156847,  5.24397628, 29.39652726])"
      ]
     },
     "execution_count": 81,
     "metadata": {},
     "output_type": "execute_result"
    }
   ],
   "source": [
    "arr"
   ]
  },
  {
   "cell_type": "code",
   "execution_count": 82,
   "id": "947bd0ce-024a-4086-9239-264051b7cb96",
   "metadata": {},
   "outputs": [],
   "source": [
    "import seaborn as sns"
   ]
  },
  {
   "cell_type": "code",
   "execution_count": 83,
   "id": "6bdf65cc-66eb-41ef-a13f-eb8a5a3dc127",
   "metadata": {},
   "outputs": [
    {
     "data": {
      "text/plain": [
       "<AxesSubplot: ylabel='Count'>"
      ]
     },
     "execution_count": 83,
     "metadata": {},
     "output_type": "execute_result"
    },
    {
     "data": {
      "image/png": "[encoded data removed]",
      "text/plain": [
       "<Figure size 640x480 with 1 Axes>"
      ]
     },
     "metadata": {},
     "output_type": "display_data"
    }
   ],
   "source": [
    "sns.histplot(arr , kde=True)"
   ]
  },
  {
   "cell_type": "code",
   "execution_count": 87,
   "id": "f078c295-6063-4487-a0e9-9c70c5b00b25",
   "metadata": {},
   "outputs": [],
   "source": [
    "cdf = stats.chi2.cdf(df = 10 , x =15)"
   ]
  },
  {
   "cell_type": "code",
   "execution_count": 88,
   "id": "fbc75699-e5f1-4b46-bb79-fbf604614c3b",
   "metadata": {},
   "outputs": [
    {
     "data": {
      "text/plain": [
       "0.8679381437122794"
      ]
     },
     "execution_count": 88,
     "metadata": {},
     "output_type": "execute_result"
    }
   ],
   "source": [
    "cdf"
   ]
  },
  {
   "cell_type": "code",
   "execution_count": 98,
   "id": "ccb3ac96-315d-48c2-ac1e-6c3bb444d65d",
   "metadata": {},
   "outputs": [],
   "source": [
    "import matplotlib.pyplot as plt"
   ]
  },
  {
   "cell_type": "code",
   "execution_count": 101,
   "id": "491e9184-eb90-47d7-b575-e966dbe27b54",
   "metadata": {},
   "outputs": [],
   "source": [
    "df = 10"
   ]
  },
  {
   "cell_type": "code",
   "execution_count": 102,
   "id": "66213547-9961-46fe-9076-c3fd0044ba35",
   "metadata": {},
   "outputs": [],
   "source": [
    "x = np.linspace(0,30,1000)"
   ]
  },
  {
   "cell_type": "code",
   "execution_count": 104,
   "id": "d52213e7-363a-4a81-8bef-9dd2c01cc0b0",
   "metadata": {},
   "outputs": [],
   "source": [
    "y = stats.chi2.pdf(x,df)"
   ]
  },
  {
   "cell_type": "code",
   "execution_count": 105,
   "id": "c451f080-3415-4a45-a0f6-00f79d75387c",
   "metadata": {},
   "outputs": [
    {
     "data": {
      "text/plain": [
       "[<matplotlib.lines.Line2D at 0x7f54346d56c0>]"
      ]
     },
     "execution_count": 105,
     "metadata": {},
     "output_type": "execute_result"
    },
    {
     "data": {
      "image/png": "[encoded data removed]",
      "text/plain": [
       "<Figure size 640x480 with 1 Axes>"
      ]
     },
     "metadata": {},
     "output_type": "display_data"
    }
   ],
   "source": [
    "plt.plot(x,y)"
   ]
  },
  {
   "cell_type": "code",
   "execution_count": 107,
   "id": "3a49e17a-b4f0-4749-9ffb-07b5e600ec22",
   "metadata": {},
   "outputs": [
    {
     "data": {
      "image/png": "[encoded data removed]",
      "text/plain": [
       "<Figure size 640x480 with 1 Axes>"
      ]
     },
     "metadata": {},
     "output_type": "display_data"
    }
   ],
   "source": [
    "plt.fill_between(x[x>=15] , y[x>=15] , color = \"hotpink\" , alpha = 0.5)\n",
    "plt.xlabel(\"chi-square statistic\")\n",
    "plt.ylabel(\"probability density\")\n",
    "plt.title(\"chi-square distribution with 10 degrees of freedom\")\n",
    "plt.show()"
   ]
  },
  {
   "cell_type": "code",
   "execution_count": null,
   "id": "f9676287-44d1-4300-b2ed-d73e654fe495",
   "metadata": {},
   "outputs": [],
   "source": []
  },
  {
   "cell_type": "markdown",
   "id": "6f7c8d94-ca41-426a-adf6-5510168c98f0",
   "metadata": {},
   "source": [
    "Q7. A random sample of 1000 people was asked if they preferred Coke or Pepsi. Of the sample, 520 \n",
    "preferred Coke. Calculate a 99% confidence interval for the true proportion of people in the population who \n",
    "prefer Coke."
   ]
  },
  {
   "cell_type": "markdown",
   "id": "fbc4b4b7-8588-49bd-abf1-b948a3e0aaa0",
   "metadata": {},
   "source": [
    "Solution:"
   ]
  },
  {
   "cell_type": "code",
   "execution_count": 117,
   "id": "ec0a0d5d-12d7-4616-80ef-157e40475631",
   "metadata": {},
   "outputs": [],
   "source": [
    "n = 1000\n",
    "p = 520/n"
   ]
  },
  {
   "cell_type": "code",
   "execution_count": 118,
   "id": "98bc683e-4c74-42ca-9a36-d0810d591566",
   "metadata": {},
   "outputs": [
    {
     "data": {
      "text/plain": [
       "0.52"
      ]
     },
     "execution_count": 118,
     "metadata": {},
     "output_type": "execute_result"
    }
   ],
   "source": [
    "p"
   ]
  },
  {
   "cell_type": "code",
   "execution_count": 119,
   "id": "bde805d4-300d-48a4-884d-4e14b81fcea4",
   "metadata": {},
   "outputs": [],
   "source": [
    "z = stats.norm.ppf(q=1-0.01/2)"
   ]
  },
  {
   "cell_type": "code",
   "execution_count": 120,
   "id": "439512a2-d2c9-4c7b-8e10-ded631bfc0d6",
   "metadata": {},
   "outputs": [
    {
     "data": {
      "text/plain": [
       "2.5758293035489004"
      ]
     },
     "execution_count": 120,
     "metadata": {},
     "output_type": "execute_result"
    }
   ],
   "source": [
    "z"
   ]
  },
  {
   "cell_type": "code",
   "execution_count": 121,
   "id": "50da399c-da2a-4a93-8579-29a79e0c4542",
   "metadata": {},
   "outputs": [],
   "source": [
    "lower_bound = p - z * math.sqrt(p*(1-p) / n)"
   ]
  },
  {
   "cell_type": "code",
   "execution_count": 122,
   "id": "0cc625bd-4483-47f1-a009-3c85b3ce7886",
   "metadata": {},
   "outputs": [],
   "source": [
    "upper_bound =  p + z * math.sqrt(p*(1-p) / n)"
   ]
  },
  {
   "cell_type": "code",
   "execution_count": 123,
   "id": "d8d31287-10b0-456e-8c42-21baa1ccd44d",
   "metadata": {},
   "outputs": [
    {
     "data": {
      "text/plain": [
       "(0.4793051576779699, 0.5606948423220302)"
      ]
     },
     "execution_count": 123,
     "metadata": {},
     "output_type": "execute_result"
    }
   ],
   "source": [
    "lower_bound , upper_bound"
   ]
  },
  {
   "cell_type": "code",
   "execution_count": null,
   "id": "1843de39-0424-4293-905a-9c3a76e6e1fd",
   "metadata": {},
   "outputs": [],
   "source": []
  },
  {
   "cell_type": "markdown",
   "id": "0a416326-5038-438c-a120-2cc4a43288f9",
   "metadata": {},
   "source": [
    " Q8. A researcher hypothesizes that a coin is biased towards tails. They flip the coin 100 times and observe \n",
    "45 tails. Conduct a chi-square goodness of fit test to determine if the observed frequencies match the \n",
    "expected frequencies of a fair coin. Use a significance level of 0.05."
   ]
  },
  {
   "cell_type": "markdown",
   "id": "dd4ce5bf-0462-4dce-87cf-edcb4e178945",
   "metadata": {},
   "source": [
    "Solution:"
   ]
  },
  {
   "cell_type": "code",
   "execution_count": 124,
   "id": "3f2585fd-b7e9-48ad-8d02-b3e58d3df57f",
   "metadata": {},
   "outputs": [],
   "source": [
    "observed = [45,55]\n",
    "expected = [50,50]\n",
    "\n",
    "sig_level = 0.05\n",
    "\n",
    "\n"
   ]
  },
  {
   "cell_type": "code",
   "execution_count": 125,
   "id": "009c8da9-b628-4734-93df-c9d72f8be9ed",
   "metadata": {},
   "outputs": [],
   "source": [
    "chi_stats , p = stats.chisquare(observed , expected)"
   ]
  },
  {
   "cell_type": "code",
   "execution_count": 126,
   "id": "3bf44b99-8dff-4754-9d57-93b84247dd31",
   "metadata": {},
   "outputs": [
    {
     "data": {
      "text/plain": [
       "(1.0, 0.31731050786291115)"
      ]
     },
     "execution_count": 126,
     "metadata": {},
     "output_type": "execute_result"
    }
   ],
   "source": [
    "chi_stats ,p "
   ]
  },
  {
   "cell_type": "code",
   "execution_count": 131,
   "id": "d0b024f8-c985-486b-94e8-8d693883b4a8",
   "metadata": {},
   "outputs": [
    {
     "name": "stdout",
     "output_type": "stream",
     "text": [
      "fail to reject null hypothesis\n"
     ]
    }
   ],
   "source": [
    "if p < 0.05 :\n",
    "    print(\"null hypothesis rejected\")\n",
    "    \n",
    "else:\n",
    "    print(\"fail to reject null hypothesis\")"
   ]
  },
  {
   "cell_type": "code",
   "execution_count": null,
   "id": "e232b999-5ff1-4070-a02a-5e435beecfc6",
   "metadata": {},
   "outputs": [],
   "source": []
  },
  {
   "attachments": {
    "b54e214f-affd-4fe4-ba42-cdfc32b8cf31.png": {
     "image/png": "[encoded data removed]"
    }
   },
   "cell_type": "markdown",
   "id": "d30ec0f4-af2f-4d4b-a3b3-17b83e243b08",
   "metadata": {},
   "source": [
    "Q9. A study was conducted to determine if there is an association between smoking status (smoker or \n",
    "non-smoker) and lung cancer diagnosis (yes or no). The results are shown in the contingency table below. \n",
    "Conduct a chi-square test for independence to determine if there is a significant association between \n",
    "smoking status and lung cancer diagnosis.Use a significance level of 0.05.\n",
    "\n",
    "![image.png](attachment:b54e214f-affd-4fe4-ba42-cdfc32b8cf31.png)\n"
   ]
  },
  {
   "cell_type": "markdown",
   "id": "b9596b22-10b9-4fdf-bc0d-6109a5f7ee35",
   "metadata": {},
   "source": [
    "Solution:"
   ]
  },
  {
   "cell_type": "code",
   "execution_count": 138,
   "id": "9460efbb-c0d1-4a5b-b598-1cb0a1c9fe33",
   "metadata": {},
   "outputs": [],
   "source": [
    "observed = np.array([[60,140],[30,170]])"
   ]
  },
  {
   "cell_type": "code",
   "execution_count": 140,
   "id": "fe9f06df-5a96-4930-bf13-d8d93bf22483",
   "metadata": {},
   "outputs": [],
   "source": [
    "chi_stats , p , df , expected = stats.chi2_contingency(observed)"
   ]
  },
  {
   "cell_type": "code",
   "execution_count": 141,
   "id": "2679d6b4-279f-4968-bb75-56a574d2420a",
   "metadata": {},
   "outputs": [
    {
     "data": {
      "text/plain": [
       "0.0005158863863703744"
      ]
     },
     "execution_count": 141,
     "metadata": {},
     "output_type": "execute_result"
    }
   ],
   "source": [
    "p"
   ]
  },
  {
   "cell_type": "code",
   "execution_count": 142,
   "id": "12fb45bf-d04d-4035-919b-590262de2d2f",
   "metadata": {},
   "outputs": [
    {
     "name": "stdout",
     "output_type": "stream",
     "text": [
      "null hypothesis is rejected\n"
     ]
    }
   ],
   "source": [
    "if p < 0.05:\n",
    "    print(\"null hypothesis is rejected\")\n",
    "    \n",
    "else:\n",
    "    print(\"fail to reject null hypothesis\")\n",
    "    "
   ]
  },
  {
   "cell_type": "code",
   "execution_count": null,
   "id": "e6750404-7d4d-4991-b8a3-64ce5c4fcf5b",
   "metadata": {},
   "outputs": [],
   "source": []
  },
  {
   "attachments": {
    "fda0a100-1eef-419d-80ac-642fd0a1b5f0.png": {
     "image/png": "[encoded data removed]"
    }
   },
   "cell_type": "markdown",
   "id": "a83d98a5-3b22-4e81-906c-9f78514e0482",
   "metadata": {},
   "source": [
    "Q10. A study was conducted to determine if the proportion of people who prefer milk chocolate, dark \n",
    "chocolate, or white chocolate is different in the U.S. versus the U.K. A random sample of 500 people from \n",
    "the U.S. and a random sample of 500 people from the U.K. were surveyed. The results are shown in the \n",
    "contingency table below. Conduct a chi-square test for independence to determine if there is a significant \n",
    "association between chocolate preference and country of origin. Use a significance level of 0.01\n",
    "\n",
    "\n",
    "![image.png](attachment:fda0a100-1eef-419d-80ac-642fd0a1b5f0.png)"
   ]
  },
  {
   "cell_type": "markdown",
   "id": "37915a75-9901-4ac1-8de2-21cdc60f0ef9",
   "metadata": {},
   "source": [
    "Solution:"
   ]
  },
  {
   "cell_type": "code",
   "execution_count": 143,
   "id": "ae712a6b-f6d1-494f-ac26-ac3cfe1d0321",
   "metadata": {},
   "outputs": [],
   "source": [
    "observed = np.array([[200,150,150],[225,175,100]])"
   ]
  },
  {
   "cell_type": "code",
   "execution_count": 146,
   "id": "59cfe0d4-9b0b-4fa9-b1c0-e2e7b4280409",
   "metadata": {},
   "outputs": [],
   "source": [
    "chi_stats,p,df,expected = stats.chi2_contingency(observed)"
   ]
  },
  {
   "cell_type": "code",
   "execution_count": 147,
   "id": "13200192-55d1-45da-93be-99423a8efef0",
   "metadata": {},
   "outputs": [
    {
     "data": {
      "text/plain": [
       "0.0012348168997745918"
      ]
     },
     "execution_count": 147,
     "metadata": {},
     "output_type": "execute_result"
    }
   ],
   "source": [
    "p"
   ]
  },
  {
   "cell_type": "code",
   "execution_count": 148,
   "id": "f9b2fbde-fca0-4ae4-b560-2822b6a98aa2",
   "metadata": {},
   "outputs": [
    {
     "name": "stdout",
     "output_type": "stream",
     "text": [
      "null hypothesis rejected\n"
     ]
    }
   ],
   "source": [
    "if p < 0.01:\n",
    "    print(\"null hypothesis rejected\")\n",
    "    \n",
    "else:\n",
    "    print(\"fail to reject null hypothesis\")"
   ]
  },
  {
   "cell_type": "code",
   "execution_count": null,
   "id": "e50a44bc-0bc3-49f7-9935-3b3c569e71fa",
   "metadata": {},
   "outputs": [],
   "source": []
  },
  {
   "cell_type": "markdown",
   "id": "45242cdd-3c92-465e-955e-5ce04408042f",
   "metadata": {},
   "source": [
    "Q11. A random sample of 30 people was selected from a population with an unknown mean and standard \n",
    "deviation. The sample mean was found to be 72 and the sample standard deviation was found to be 10. \n",
    "Conduct a hypothesis test to determine if the population mean is significantly different from 70. Use a \n",
    "significance level of 0.05."
   ]
  },
  {
   "cell_type": "markdown",
   "id": "25c09000-0d59-4221-ab01-c7f61d59785e",
   "metadata": {},
   "source": [
    "Solution:"
   ]
  },
  {
   "cell_type": "code",
   "execution_count": 149,
   "id": "80d2d041-af36-4a3f-8e70-8c97beb73a3f",
   "metadata": {},
   "outputs": [],
   "source": [
    "sam_mean = 72\n",
    "sam_std = 10\n",
    "pop_mean = 70\n",
    "n = 30\n",
    "sig_level=0.05"
   ]
  },
  {
   "cell_type": "code",
   "execution_count": 161,
   "id": "71050bf5-76b4-4b74-80c4-8f4191b83462",
   "metadata": {},
   "outputs": [],
   "source": [
    "# H0 : u = 70\n",
    "\n",
    "# H1 : u != 70"
   ]
  },
  {
   "cell_type": "code",
   "execution_count": 170,
   "id": "772a9a03-eebb-479e-9a00-432958d9fbaa",
   "metadata": {},
   "outputs": [],
   "source": [
    "t = (sam_mean - pop_mean) / (sam_std / (n**0.5))"
   ]
  },
  {
   "cell_type": "code",
   "execution_count": 171,
   "id": "074fc992-0edd-4d60-b64c-1decf51b26f4",
   "metadata": {},
   "outputs": [
    {
     "data": {
      "text/plain": [
       "1.0954451150103321"
      ]
     },
     "execution_count": 171,
     "metadata": {},
     "output_type": "execute_result"
    }
   ],
   "source": [
    "t"
   ]
  },
  {
   "cell_type": "code",
   "execution_count": 166,
   "id": "cc5f73b8-8484-41fd-a543-0b5f1f7fe700",
   "metadata": {},
   "outputs": [],
   "source": [
    "critical_value = stats.t.ppf(1-0.05/2 , df = n-1)"
   ]
  },
  {
   "cell_type": "code",
   "execution_count": 167,
   "id": "7a681787-3896-4030-91a9-8d5ee162bde0",
   "metadata": {},
   "outputs": [
    {
     "data": {
      "text/plain": [
       "2.045229642132703"
      ]
     },
     "execution_count": 167,
     "metadata": {},
     "output_type": "execute_result"
    }
   ],
   "source": [
    "critical_value"
   ]
  },
  {
   "cell_type": "code",
   "execution_count": null,
   "id": "80bfe6d7-8ec8-45d6-a6d8-fb5ecc2392dd",
   "metadata": {},
   "outputs": [],
   "source": []
  },
  {
   "cell_type": "code",
   "execution_count": 169,
   "id": "e67b9bbc-c941-4812-8f79-426d88901354",
   "metadata": {},
   "outputs": [
    {
     "name": "stdout",
     "output_type": "stream",
     "text": [
      "fail to reject null hypothesis\n"
     ]
    }
   ],
   "source": [
    "if t > critical_value:\n",
    "    print(\"null hypothesis rejected\")\n",
    "    \n",
    "else:\n",
    "    print(\"fail to reject null hypothesis\")"
   ]
  },
  {
   "cell_type": "code",
   "execution_count": null,
   "id": "34c3696a-3c40-4e30-81b2-e7ae220f8d61",
   "metadata": {},
   "outputs": [],
   "source": []
  }
 ],
 "metadata": {
  "kernelspec": {
   "display_name": "Python 3 (ipykernel)",
   "language": "python",
   "name": "python3"
  },
  "language_info": {
   "codemirror_mode": {
    "name": "ipython",
    "version": 3
   },
   "file_extension": ".py",
   "mimetype": "text/x-python",
   "name": "python",
   "nbconvert_exporter": "python",
   "pygments_lexer": "ipython3",
   "version": "3.10.8"
  }
 },
 "nbformat": 4,
 "nbformat_minor": 5
}
